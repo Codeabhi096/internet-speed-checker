{
 "cells": [
  {
   "cell_type": "code",
   "execution_count": 1,
   "id": "06b275db-6b87-49ba-9d4e-f2ba57bf1150",
   "metadata": {},
   "outputs": [
    {
     "name": "stdout",
     "output_type": "stream",
     "text": [
      "8.6\n"
     ]
    }
   ],
   "source": [
    "import tkinter\n",
    "print(tkinter.TkVersion)"
   ]
  },
  {
   "cell_type": "code",
   "execution_count": null,
   "id": "450de921-fea5-4c71-b114-edbd276ec243",
   "metadata": {},
   "outputs": [],
   "source": [
    "from tkinter import *\n",
    "from tkinter.ttk import Progressbar\n",
    "import speedtest\n",
    "import time\n",
    "\n",
    "\n",
    "def animate_speed(speed_value, progress_bar, scaling_factor):\n",
    "    max_value = speed_value * scaling_factor\n",
    "    increment = max_value / 100\n",
    "    for i in range(int(max_value) + 1):\n",
    "        if i > 0.9 * max_value:\n",
    "            break\n",
    "        progress_bar['value'] = i\n",
    "        progress_bar.update()\n",
    "        time.sleep(0.02)\n",
    "\n",
    "\n",
    "def check_speed():\n",
    "    st = speedtest.Speedtest()\n",
    "    download_speed = st.download() / 1000000\n",
    "    upload_speed = st.upload() / 1000000\n",
    "    ping = st.results.ping\n",
    "    download_label.config(text=f\"Download Speed: {download_speed:.2f} Mbps\")\n",
    "    upload_label.config(text=f\"Upload Speed: {upload_speed:.2f} Mbps\")\n",
    "    ping_label.config(text=f\"Ping: {ping:.2f} ms\")\n",
    "    animate_speed(download_speed, download_progress, 5)\n",
    "    animate_speed(upload_speed, upload_progress, 3)\n",
    "    animate_speed(ping, ping_progress, 2)\n",
    "\n",
    "\n",
    "root = Tk()\n",
    "root.title(\"Internet Speed Checker\")\n",
    "root.config(bg=\"#212121\")\n",
    "root.geometry(\"500x400\")\n",
    "root.resizable(False, False)\n",
    "\n",
    "label1 = Label(root, text=\"Internet Speed Checker\", font=(\n",
    "    \"Helvetica\", 30, \"bold\"), bg=\"#212121\", fg=\"#ffffff\")\n",
    "label1.pack()\n",
    "\n",
    "download_label = Label(root, font=(\"Helvetica\", 16),\n",
    "                       bg=\"#212121\", fg=\"#ffffff\")\n",
    "download_label.pack(pady=10)\n",
    "\n",
    "download_progress = Progressbar(\n",
    "    root, orient=HORIZONTAL, length=300, mode='determinate')\n",
    "download_progress.pack(pady=10)\n",
    "\n",
    "upload_label = Label(root, font=(\"Helvetica\", 16), bg=\"#212121\", fg=\"#ffffff\")\n",
    "upload_label.pack(pady=10)\n",
    "\n",
    "upload_progress = Progressbar(\n",
    "    root, orient=HORIZONTAL, length=300, mode='determinate')\n",
    "upload_progress.pack(pady=10)\n",
    "\n",
    "ping_label = Label(root, font=(\"Helvetica\", 16), bg=\"#212121\", fg=\"#ffffff\")\n",
    "ping_label.pack(pady=10)\n",
    "\n",
    "ping_progress = Progressbar(root, orient=HORIZONTAL,\n",
    "                            length=300, mode='determinate')\n",
    "ping_progress.pack(pady=10)\n",
    "\n",
    "check_speed()\n",
    "\n",
    "button_refresh = Button(root, text=\"Refresh\", font=(\n",
    "    \"Helvetica\", 14, \"bold\"), bg=\"#03a9f4\", fg=\"#ffffff\", command=check_speed)\n",
    "button_refresh.pack(pady=20)\n",
    "\n",
    "root.mainloop()\n"
   ]
  },
  {
   "cell_type": "code",
   "execution_count": null,
   "id": "4bfb3ba7-8a6d-42fd-b9a4-2277f1a8fdc5",
   "metadata": {},
   "outputs": [],
   "source": []
  }
 ],
 "metadata": {
  "kernelspec": {
   "display_name": "Python 3 (ipykernel)",
   "language": "python",
   "name": "python3"
  },
  "language_info": {
   "codemirror_mode": {
    "name": "ipython",
    "version": 3
   },
   "file_extension": ".py",
   "mimetype": "text/x-python",
   "name": "python",
   "nbconvert_exporter": "python",
   "pygments_lexer": "ipython3",
   "version": "3.11.7"
  }
 },
 "nbformat": 4,
 "nbformat_minor": 5
}
